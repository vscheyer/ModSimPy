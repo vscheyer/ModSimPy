{
 "cells": [
  {
   "cell_type": "code",
   "execution_count": 81,
   "metadata": {
    "collapsed": true
   },
   "outputs": [],
   "source": [
    "%matplotlib inline\n",
    "\n",
    "from modsim import *"
   ]
  },
  {
   "cell_type": "code",
   "execution_count": 82,
   "metadata": {},
   "outputs": [
    {
     "data": {
      "text/plain": [
       "(s1    89\n",
       " i1     1\n",
       " r1     0\n",
       " dtype: int64, s2    90\n",
       " i2     0\n",
       " r2     0\n",
       " dtype: int64, s3    90\n",
       " i3     0\n",
       " r3     0\n",
       " dtype: int64, s4    90\n",
       " i4     0\n",
       " r4     0\n",
       " dtype: int64)"
      ]
     },
     "execution_count": 82,
     "metadata": {},
     "output_type": "execute_result"
    }
   ],
   "source": [
    "#simulation of freshman class only\n",
    "init1 = State(s1=89, i1=1,r1=0)\n",
    "\n",
    "init2 = State(s2=90, i2=0, r2=0)\n",
    "\n",
    "init3 = State(s3=90, i3=0, r3=0)\n",
    "\n",
    "init4 = State(s4=90,i4=0,r4=0)\n",
    "\n",
    "init1, init2, init3, init4"
   ]
  },
  {
   "cell_type": "code",
   "execution_count": 83,
   "metadata": {},
   "outputs": [
    {
     "data": {
      "text/plain": [
       "(s1    0.988889\n",
       " i1    0.011111\n",
       " r1    0.000000\n",
       " dtype: float64, s2    1.0\n",
       " i2    0.0\n",
       " r2    0.0\n",
       " dtype: float64, s3    1.0\n",
       " i3    0.0\n",
       " r3    0.0\n",
       " dtype: float64, s4    1.0\n",
       " i4    0.0\n",
       " r4    0.0\n",
       " dtype: float64)"
      ]
     },
     "execution_count": 83,
     "metadata": {},
     "output_type": "execute_result"
    }
   ],
   "source": [
    "init1 /= sum(init1)\n",
    "init2 /= sum(init2)\n",
    "init3 /= sum(init3)\n",
    "init4 /= sum(init4)\n",
    "init1, init2, init3, init4"
   ]
  },
  {
   "cell_type": "code",
   "execution_count": 84,
   "metadata": {
    "collapsed": true
   },
   "outputs": [],
   "source": [
    "def make_system(beta1, beta2, beta3, beta4, beta5, beta6, beta7, gamma):\n",
    "    \"\"\"BETAS\n",
    "    beta1 - within class\n",
    "    beta2 - F-So\n",
    "    beta3 - F-J\n",
    "    beta4 - F-Se\n",
    "    beta5 - So-J\n",
    "    beta6 - So-Se\n",
    "    beta7 - J-Se\n",
    "    \"\"\"\n",
    "\n",
    "    init1 = State(s1=89, i1=1,r1=0)\n",
    "\n",
    "    init2 = State(s2=90, i2=0, r2=0)\n",
    "\n",
    "    init3 = State(s3=90, i3=0, r3=0)\n",
    "\n",
    "    init4 = State(s4=90, i4=0, r4=0)\n",
    "    \n",
    "\n",
    "    init1 /= sum(init1)\n",
    "    init2 /= sum(init2)\n",
    "    init3 /= sum(init3)\n",
    "    init4 /= sum(init4)\n",
    "  \n",
    "    \n",
    "    t0 =0 \n",
    "    t_end = 7 * 14\n",
    "    \n",
    "    return System(init1=init1, init2=init2, init3=init3, init4=init4, t0=t0, t_end=t_end,\n",
    "                 beta1=beta1, beta2=beta2, beta3=beta3, beta4=beta4, beta5=beta5, beta6=beta6, beta7=beta7, gamma=gamma)"
   ]
  },
  {
   "cell_type": "code",
   "execution_count": 85,
   "metadata": {},
   "outputs": [
    {
     "data": {
      "text/html": [
       "<div>\n",
       "<style>\n",
       "    .dataframe thead tr:only-child th {\n",
       "        text-align: right;\n",
       "    }\n",
       "\n",
       "    .dataframe thead th {\n",
       "        text-align: left;\n",
       "    }\n",
       "\n",
       "    .dataframe tbody tr th {\n",
       "        vertical-align: top;\n",
       "    }\n",
       "</style>\n",
       "<table border=\"1\" class=\"dataframe\">\n",
       "  <thead>\n",
       "    <tr style=\"text-align: right;\">\n",
       "      <th></th>\n",
       "      <th>value</th>\n",
       "    </tr>\n",
       "  </thead>\n",
       "  <tbody>\n",
       "    <tr>\n",
       "      <th>init1</th>\n",
       "      <td>s1    0.988889\n",
       "i1    0.011111\n",
       "r1    0.000000\n",
       "d...</td>\n",
       "    </tr>\n",
       "    <tr>\n",
       "      <th>init2</th>\n",
       "      <td>s2    1.0\n",
       "i2    0.0\n",
       "r2    0.0\n",
       "dtype: float64</td>\n",
       "    </tr>\n",
       "    <tr>\n",
       "      <th>init3</th>\n",
       "      <td>s3    1.0\n",
       "i3    0.0\n",
       "r3    0.0\n",
       "dtype: float64</td>\n",
       "    </tr>\n",
       "    <tr>\n",
       "      <th>init4</th>\n",
       "      <td>s4    1.0\n",
       "i4    0.0\n",
       "r4    0.0\n",
       "dtype: float64</td>\n",
       "    </tr>\n",
       "    <tr>\n",
       "      <th>t0</th>\n",
       "      <td>0</td>\n",
       "    </tr>\n",
       "    <tr>\n",
       "      <th>t_end</th>\n",
       "      <td>98</td>\n",
       "    </tr>\n",
       "    <tr>\n",
       "      <th>beta1</th>\n",
       "      <td>1.5</td>\n",
       "    </tr>\n",
       "    <tr>\n",
       "      <th>beta2</th>\n",
       "      <td>0.75</td>\n",
       "    </tr>\n",
       "    <tr>\n",
       "      <th>beta3</th>\n",
       "      <td>0.5</td>\n",
       "    </tr>\n",
       "    <tr>\n",
       "      <th>beta4</th>\n",
       "      <td>0.25</td>\n",
       "    </tr>\n",
       "    <tr>\n",
       "      <th>beta5</th>\n",
       "      <td>0.75</td>\n",
       "    </tr>\n",
       "    <tr>\n",
       "      <th>beta6</th>\n",
       "      <td>0.5</td>\n",
       "    </tr>\n",
       "    <tr>\n",
       "      <th>beta7</th>\n",
       "      <td>0.75</td>\n",
       "    </tr>\n",
       "    <tr>\n",
       "      <th>gamma</th>\n",
       "      <td>0.25</td>\n",
       "    </tr>\n",
       "  </tbody>\n",
       "</table>\n",
       "</div>"
      ],
      "text/plain": [
       "init1    s1    0.988889\n",
       "i1    0.011111\n",
       "r1    0.000000\n",
       "d...\n",
       "init2         s2    1.0\n",
       "i2    0.0\n",
       "r2    0.0\n",
       "dtype: float64\n",
       "init3         s3    1.0\n",
       "i3    0.0\n",
       "r3    0.0\n",
       "dtype: float64\n",
       "init4         s4    1.0\n",
       "i4    0.0\n",
       "r4    0.0\n",
       "dtype: float64\n",
       "t0                                                       0\n",
       "t_end                                                   98\n",
       "beta1                                                  1.5\n",
       "beta2                                                 0.75\n",
       "beta3                                                  0.5\n",
       "beta4                                                 0.25\n",
       "beta5                                                 0.75\n",
       "beta6                                                  0.5\n",
       "beta7                                                 0.75\n",
       "gamma                                                 0.25\n",
       "dtype: object"
      ]
     },
     "execution_count": 85,
     "metadata": {},
     "output_type": "execute_result"
    }
   ],
   "source": []
  },
  {
   "cell_type": "code",
   "execution_count": 86,
   "metadata": {},
   "outputs": [
    {
     "ename": "NameError",
     "evalue": "name 'i2' is not defined",
     "output_type": "error",
     "traceback": [
      "\u001b[1;31m---------------------------------------------------------------------------\u001b[0m",
      "\u001b[1;31mNameError\u001b[0m                                 Traceback (most recent call last)",
      "\u001b[1;32m<ipython-input-86-0ab9d46ea815>\u001b[0m in \u001b[0;36m<module>\u001b[1;34m()\u001b[0m\n\u001b[1;32m----> 1\u001b[1;33m \u001b[0mstate1\u001b[0m \u001b[1;33m=\u001b[0m \u001b[0mupdate1\u001b[0m\u001b[1;33m(\u001b[0m\u001b[0minit1\u001b[0m\u001b[1;33m,\u001b[0m \u001b[0minit2\u001b[0m\u001b[1;33m,\u001b[0m \u001b[0minit3\u001b[0m\u001b[1;33m,\u001b[0m \u001b[0minit4\u001b[0m\u001b[1;33m,\u001b[0m \u001b[0msystem\u001b[0m\u001b[1;33m)\u001b[0m\u001b[1;33m\u001b[0m\u001b[0m\n\u001b[0m\u001b[0;32m      2\u001b[0m \u001b[0mstate2\u001b[0m \u001b[1;33m=\u001b[0m \u001b[0mupdate2\u001b[0m\u001b[1;33m(\u001b[0m\u001b[0minit2\u001b[0m\u001b[1;33m,\u001b[0m \u001b[0msystem\u001b[0m\u001b[1;33m)\u001b[0m\u001b[1;33m\u001b[0m\u001b[0m\n\u001b[0;32m      3\u001b[0m \u001b[0mstate3\u001b[0m \u001b[1;33m=\u001b[0m \u001b[0mupdate3\u001b[0m\u001b[1;33m(\u001b[0m\u001b[0minit3\u001b[0m\u001b[1;33m,\u001b[0m \u001b[0msystem\u001b[0m\u001b[1;33m)\u001b[0m\u001b[1;33m\u001b[0m\u001b[0m\n\u001b[0;32m      4\u001b[0m \u001b[0mstate4\u001b[0m \u001b[1;33m=\u001b[0m \u001b[0mupdate4\u001b[0m\u001b[1;33m(\u001b[0m\u001b[0minit4\u001b[0m\u001b[1;33m,\u001b[0m \u001b[0msystem\u001b[0m\u001b[1;33m)\u001b[0m\u001b[1;33m\u001b[0m\u001b[0m\n",
      "\u001b[1;32m<ipython-input-69-64822b8557dd>\u001b[0m in \u001b[0;36mupdate1\u001b[1;34m(state1, state2, state3, state4, system)\u001b[0m\n\u001b[0;32m      5\u001b[0m     \u001b[0ms1\u001b[0m\u001b[1;33m,\u001b[0m \u001b[0mi1\u001b[0m\u001b[1;33m,\u001b[0m \u001b[0mr1\u001b[0m \u001b[1;33m=\u001b[0m \u001b[0mstate1\u001b[0m\u001b[1;33m\u001b[0m\u001b[0m\n\u001b[0;32m      6\u001b[0m \u001b[1;33m\u001b[0m\u001b[0m\n\u001b[1;32m----> 7\u001b[1;33m     \u001b[0minfected1\u001b[0m \u001b[1;33m=\u001b[0m \u001b[0msystem\u001b[0m\u001b[1;33m.\u001b[0m\u001b[0mbeta1\u001b[0m\u001b[1;33m*\u001b[0m\u001b[0ms1\u001b[0m\u001b[1;33m*\u001b[0m\u001b[0mi1\u001b[0m \u001b[1;33m+\u001b[0m \u001b[0msystem\u001b[0m\u001b[1;33m.\u001b[0m\u001b[0mbeta2\u001b[0m\u001b[1;33m*\u001b[0m\u001b[0ms1\u001b[0m\u001b[1;33m*\u001b[0m\u001b[0mi2\u001b[0m \u001b[1;33m+\u001b[0m \u001b[0msystem\u001b[0m\u001b[1;33m.\u001b[0m\u001b[0mbeta3\u001b[0m\u001b[1;33m*\u001b[0m\u001b[0ms1\u001b[0m\u001b[1;33m*\u001b[0m\u001b[0mi3\u001b[0m \u001b[1;33m+\u001b[0m \u001b[0msystem\u001b[0m\u001b[1;33m.\u001b[0m\u001b[0mbeta4\u001b[0m\u001b[1;33m*\u001b[0m\u001b[0ms1\u001b[0m\u001b[1;33m*\u001b[0m\u001b[0mi4\u001b[0m\u001b[1;33m\u001b[0m\u001b[0m\n\u001b[0m\u001b[0;32m      8\u001b[0m \u001b[1;33m\u001b[0m\u001b[0m\n\u001b[0;32m      9\u001b[0m     \u001b[0mrecovered1\u001b[0m \u001b[1;33m=\u001b[0m \u001b[0msystem\u001b[0m\u001b[1;33m.\u001b[0m\u001b[0mgamma\u001b[0m \u001b[1;33m*\u001b[0m \u001b[0mi1\u001b[0m\u001b[1;33m\u001b[0m\u001b[0m\n",
      "\u001b[1;31mNameError\u001b[0m: name 'i2' is not defined"
     ]
    }
   ],
   "source": [
    "state1 = update1(init1, init2, init3, init4, system)\n",
    "state2 = update2(init2, system)\n",
    "state3 = update3(init3, system)\n",
    "state4 = update4(init4, system)"
   ]
  },
  {
   "cell_type": "code",
   "execution_count": 69,
   "metadata": {},
   "outputs": [],
   "source": [
    "\n",
    "\n",
    "def update1(state1, state2, state3, state4, system):\n",
    "\n",
    "    s1, i1, r1 = state1\n",
    "    \n",
    "    infected1 = system.beta1*s1*i1 + system.beta2*s1*i2 + system.beta3*s1*i3 + system.beta4*s1*i4\n",
    "    \n",
    "    recovered1 = system.gamma * i1\n",
    "    \n",
    "    s1 -= infected1\n",
    "    \n",
    "    i1 += infected1 - recovered1\n",
    "    \n",
    "    r1 += recovered1\n",
    "    \n",
    "    return State(s1=s1, i1=i1, r1=r1)\n",
    "\n"
   ]
  },
  {
   "cell_type": "code",
   "execution_count": 70,
   "metadata": {
    "collapsed": true
   },
   "outputs": [],
   "source": [
    "def update2(state2, system):\n",
    "    s2, i2, r2 = state2\n",
    "    infected2 = system.beta1*s2*i2 + system.beta2*s2*i1 + system.beta5*s2*i3 + system.beta6*s2*i4\n",
    "    recovered2 = system.gamma * i2\n",
    "    s2 -= infected2\n",
    "    i2 += infected2 - recovered2\n",
    "    r2 += recovered2\n",
    "    return State(s2=s2, i2=i2, r2=r2)"
   ]
  },
  {
   "cell_type": "code",
   "execution_count": 71,
   "metadata": {
    "collapsed": true
   },
   "outputs": [],
   "source": [
    "def update3(state3, system):\n",
    "    s3, i3, r3 = state3\n",
    "    infected3 = system.beta1*s3*i3 + system.beta3*s3*i1 + system.beta5*s3*i2 + system.beta7*s3*i4\n",
    "    recovered3 = system.gamma * i3\n",
    "    s3 -= infected3\n",
    "    i3 += infected3 - recovered3\n",
    "    r3 += recovered3\n",
    "    return State(s3=s3, i3=i3, r3=r3)"
   ]
  },
  {
   "cell_type": "code",
   "execution_count": 72,
   "metadata": {
    "collapsed": true
   },
   "outputs": [],
   "source": [
    "def update3(state4, system):\n",
    "    s4, i4, r4 = state4\n",
    "    infected4 = system.beta1*s4*i4 + system.beta4*s4*i1 + system.beta6*s4*i2 + system.beta7*s4*i3\n",
    "    recovered4 = system.gamma * i4\n",
    "    s4 -= infected4\n",
    "    i4 += infected4 - recovered4\n",
    "    r4 += recovered4\n",
    "    return State(s4=s4, i4=i4, r4=r4)"
   ]
  },
  {
   "cell_type": "code",
   "execution_count": 73,
   "metadata": {
    "collapsed": true
   },
   "outputs": [],
   "source": [
    "def run_simulation(system, update1):\n",
    "    \n",
    "    s1 = TimeSeries()\n",
    "    s2 = TimeSeries()\n",
    "    s3 = TimeSeries()\n",
    "    s4 = TimeSeries()\n",
    "    i1 = TimeSeries()\n",
    "    i2 = TimeSeries()\n",
    "    i3 = TimeSeries()\n",
    "    i4 = TimeSeries()\n",
    "    r1 = TimeSeries()\n",
    "    r2 = TimeSeries()\n",
    "    r3 = TimeSeries()\n",
    "    r4 = TimeSeries()\n",
    "    \n",
    "    \n",
    "    \n",
    "    state1 = system.init1\n",
    "    state2 = system.init2\n",
    "    state3 = system.init3\n",
    "    state4 = system.init4\n",
    "    \n",
    "    t0 = system.t0\n",
    "    s1[t0], i1[t0], r1[t0] = state1\n",
    "    s2[t0], i2[t0], r2[t0] = state2\n",
    "    s3[t0], i3[t0], r3[t0] = state3\n",
    "    s4[t0], i4[t0], r4[t0] = state4\n",
    "    \n",
    "    \n",
    "    for t in linrange(system.t0, system.t_end):\n",
    "        state1 = update1(state1, system)\n",
    "        s1[t+1], i1[t+1], r1[t+1] = state1\n",
    "        state2 = update2(state2, system)\n",
    "        s2[t+1], i2[t+1], r2[t+1] = state2\n",
    "        state3 = update3(state3, system)\n",
    "        s3[t+1], i3[t+1], r3[t+1] = state3\n",
    "        state4 = update4(state4, system)\n",
    "        s4[t+1], i4[t+1], r4[t+1] = state4\n",
    "        \n",
    "        \n",
    "    system.s1 = s1\n",
    "    system.s2 = s2\n",
    "    system.s3 = s3\n",
    "    system.s4 = s4\n",
    "    system.i1 = i1\n",
    "    system.i2 = i2\n",
    "    system.i3 = i3\n",
    "    system.i4 = i4\n",
    "    system.r1 = r1\n",
    "    system.r2 = r2\n",
    "    system.r3 = r3\n",
    "    system.r4 = r4\n",
    "    \n",
    "    \n",
    "    #return state1, state2, state3, state4"
   ]
  },
  {
   "cell_type": "code",
   "execution_count": 80,
   "metadata": {},
   "outputs": [
    {
     "data": {
      "text/html": [
       "<div>\n",
       "<style>\n",
       "    .dataframe thead tr:only-child th {\n",
       "        text-align: right;\n",
       "    }\n",
       "\n",
       "    .dataframe thead th {\n",
       "        text-align: left;\n",
       "    }\n",
       "\n",
       "    .dataframe tbody tr th {\n",
       "        vertical-align: top;\n",
       "    }\n",
       "</style>\n",
       "<table border=\"1\" class=\"dataframe\">\n",
       "  <thead>\n",
       "    <tr style=\"text-align: right;\">\n",
       "      <th></th>\n",
       "      <th>value</th>\n",
       "    </tr>\n",
       "  </thead>\n",
       "  <tbody>\n",
       "    <tr>\n",
       "      <th>init1</th>\n",
       "      <td>s1    0.988889\n",
       "i1    0.011111\n",
       "r1    0.000000\n",
       "d...</td>\n",
       "    </tr>\n",
       "    <tr>\n",
       "      <th>init2</th>\n",
       "      <td>s2    1.0\n",
       "i2    0.0\n",
       "r2    0.0\n",
       "dtype: float64</td>\n",
       "    </tr>\n",
       "    <tr>\n",
       "      <th>init3</th>\n",
       "      <td>s3    1.0\n",
       "i3    0.0\n",
       "r3    0.0\n",
       "dtype: float64</td>\n",
       "    </tr>\n",
       "    <tr>\n",
       "      <th>init4</th>\n",
       "      <td>s4    1.0\n",
       "i4    0.0\n",
       "r4    0.0\n",
       "dtype: float64</td>\n",
       "    </tr>\n",
       "    <tr>\n",
       "      <th>t0</th>\n",
       "      <td>0</td>\n",
       "    </tr>\n",
       "    <tr>\n",
       "      <th>t_end</th>\n",
       "      <td>98</td>\n",
       "    </tr>\n",
       "    <tr>\n",
       "      <th>beta1</th>\n",
       "      <td>1.5</td>\n",
       "    </tr>\n",
       "    <tr>\n",
       "      <th>beta2</th>\n",
       "      <td>0.75</td>\n",
       "    </tr>\n",
       "    <tr>\n",
       "      <th>beta3</th>\n",
       "      <td>0.5</td>\n",
       "    </tr>\n",
       "    <tr>\n",
       "      <th>beta4</th>\n",
       "      <td>0.25</td>\n",
       "    </tr>\n",
       "    <tr>\n",
       "      <th>beta5</th>\n",
       "      <td>0.75</td>\n",
       "    </tr>\n",
       "    <tr>\n",
       "      <th>beta6</th>\n",
       "      <td>0.5</td>\n",
       "    </tr>\n",
       "    <tr>\n",
       "      <th>beta7</th>\n",
       "      <td>0.75</td>\n",
       "    </tr>\n",
       "    <tr>\n",
       "      <th>gamma</th>\n",
       "      <td>0.25</td>\n",
       "    </tr>\n",
       "  </tbody>\n",
       "</table>\n",
       "</div>"
      ],
      "text/plain": [
       "init1    s1    0.988889\n",
       "i1    0.011111\n",
       "r1    0.000000\n",
       "d...\n",
       "init2         s2    1.0\n",
       "i2    0.0\n",
       "r2    0.0\n",
       "dtype: float64\n",
       "init3         s3    1.0\n",
       "i3    0.0\n",
       "r3    0.0\n",
       "dtype: float64\n",
       "init4         s4    1.0\n",
       "i4    0.0\n",
       "r4    0.0\n",
       "dtype: float64\n",
       "t0                                                       0\n",
       "t_end                                                   98\n",
       "beta1                                                  1.5\n",
       "beta2                                                 0.75\n",
       "beta3                                                  0.5\n",
       "beta4                                                 0.25\n",
       "beta5                                                 0.75\n",
       "beta6                                                  0.5\n",
       "beta7                                                 0.75\n",
       "gamma                                                 0.25\n",
       "dtype: object"
      ]
     },
     "execution_count": 80,
     "metadata": {},
     "output_type": "execute_result"
    }
   ],
   "source": [
    "beta1 = 1.5\n",
    "beta2 = .75\n",
    "beta3 = .5\n",
    "beta4 = .25\n",
    "beta5 = .75\n",
    "beta6 = .5\n",
    "beta7 = .75\n",
    "gamma = .25\n",
    "system = make_system(beta1, beta2, beta3, beta4, beta5, beta6, beta7, gamma)\n",
    "system"
   ]
  },
  {
   "cell_type": "code",
   "execution_count": 75,
   "metadata": {},
   "outputs": [
    {
     "ename": "TypeError",
     "evalue": "update1() missing 3 required positional arguments: 'state3', 'state4', and 'system'",
     "output_type": "error",
     "traceback": [
      "\u001b[1;31m---------------------------------------------------------------------------\u001b[0m",
      "\u001b[1;31mTypeError\u001b[0m                                 Traceback (most recent call last)",
      "\u001b[1;32m<ipython-input-75-8ee80994c1bb>\u001b[0m in \u001b[0;36m<module>\u001b[1;34m()\u001b[0m\n\u001b[1;32m----> 1\u001b[1;33m \u001b[0mrun_simulation\u001b[0m\u001b[1;33m(\u001b[0m\u001b[0msystem\u001b[0m\u001b[1;33m,\u001b[0m \u001b[0mupdate1\u001b[0m\u001b[1;33m)\u001b[0m\u001b[1;33m\u001b[0m\u001b[0m\n\u001b[0m",
      "\u001b[1;32m<ipython-input-73-f5fedce74cde>\u001b[0m in \u001b[0;36mrun_simulation\u001b[1;34m(system, update1)\u001b[0m\n\u001b[0;32m     29\u001b[0m \u001b[1;33m\u001b[0m\u001b[0m\n\u001b[0;32m     30\u001b[0m     \u001b[1;32mfor\u001b[0m \u001b[0mt\u001b[0m \u001b[1;32min\u001b[0m \u001b[0mlinrange\u001b[0m\u001b[1;33m(\u001b[0m\u001b[0msystem\u001b[0m\u001b[1;33m.\u001b[0m\u001b[0mt0\u001b[0m\u001b[1;33m,\u001b[0m \u001b[0msystem\u001b[0m\u001b[1;33m.\u001b[0m\u001b[0mt_end\u001b[0m\u001b[1;33m)\u001b[0m\u001b[1;33m:\u001b[0m\u001b[1;33m\u001b[0m\u001b[0m\n\u001b[1;32m---> 31\u001b[1;33m         \u001b[0mstate1\u001b[0m \u001b[1;33m=\u001b[0m \u001b[0mupdate1\u001b[0m\u001b[1;33m(\u001b[0m\u001b[0mstate1\u001b[0m\u001b[1;33m,\u001b[0m \u001b[0msystem\u001b[0m\u001b[1;33m)\u001b[0m\u001b[1;33m\u001b[0m\u001b[0m\n\u001b[0m\u001b[0;32m     32\u001b[0m         \u001b[0ms1\u001b[0m\u001b[1;33m[\u001b[0m\u001b[0mt\u001b[0m\u001b[1;33m+\u001b[0m\u001b[1;36m1\u001b[0m\u001b[1;33m]\u001b[0m\u001b[1;33m,\u001b[0m \u001b[0mi1\u001b[0m\u001b[1;33m[\u001b[0m\u001b[0mt\u001b[0m\u001b[1;33m+\u001b[0m\u001b[1;36m1\u001b[0m\u001b[1;33m]\u001b[0m\u001b[1;33m,\u001b[0m \u001b[0mr1\u001b[0m\u001b[1;33m[\u001b[0m\u001b[0mt\u001b[0m\u001b[1;33m+\u001b[0m\u001b[1;36m1\u001b[0m\u001b[1;33m]\u001b[0m \u001b[1;33m=\u001b[0m \u001b[0mstate1\u001b[0m\u001b[1;33m\u001b[0m\u001b[0m\n\u001b[0;32m     33\u001b[0m         \u001b[0mstate2\u001b[0m \u001b[1;33m=\u001b[0m \u001b[0mupdate2\u001b[0m\u001b[1;33m(\u001b[0m\u001b[0mstate2\u001b[0m\u001b[1;33m,\u001b[0m \u001b[0msystem\u001b[0m\u001b[1;33m)\u001b[0m\u001b[1;33m\u001b[0m\u001b[0m\n",
      "\u001b[1;31mTypeError\u001b[0m: update1() missing 3 required positional arguments: 'state3', 'state4', and 'system'"
     ]
    }
   ],
   "source": [
    "run_simulation(system, update1)"
   ]
  },
  {
   "cell_type": "code",
   "execution_count": 76,
   "metadata": {
    "collapsed": true
   },
   "outputs": [],
   "source": [
    "def plot_all_results(S1, I1, R1, S2, I2, R2, S3, I3, R3, S4, I4, R4):\n",
    "    plot(S1, '--', color='blue', label='Susceptible Freshmen')\n",
    "    plot(S2, '--', color='green', label='Susceptible Sophomores')\n",
    "    plot(S3, '--', color='red', label='Susceptible Juniors')\n",
    "    plot(S4, '--', color='purple', label='Susceptible Seniors')\n",
    "    \n",
    "    plot(I1, '-', color='blue', label='Infected Freshmen')\n",
    "    plot(I2, '-', color='green', label='Infected Sophomores')\n",
    "    plot(I3, '-', color='red', label='Infected Juniors')\n",
    "    plot(I4, '-', color='purple', label='Infected Seniors')\n",
    "    \n",
    "    plot(R1, ':', color='blue', label='Recovered Freshmen')\n",
    "    plot(R2, ':', color='green', label='Recovered Sophomores')\n",
    "    plot(R3, ':', color='red', label='Recovered Juniors')\n",
    "    plot(R4, ':', color='purple', label='Recovered Seniors')\n",
    "    \n",
    "    decorate(xlabel= 'Time (Days)', ylabel='Fraction of Population')\n",
    "\n",
    "         "
   ]
  },
  {
   "cell_type": "code",
   "execution_count": 77,
   "metadata": {},
   "outputs": [
    {
     "ename": "AttributeError",
     "evalue": "'System' object has no attribute 's1'",
     "output_type": "error",
     "traceback": [
      "\u001b[1;31m---------------------------------------------------------------------------\u001b[0m",
      "\u001b[1;31mAttributeError\u001b[0m                            Traceback (most recent call last)",
      "\u001b[1;32m<ipython-input-77-b604af4401de>\u001b[0m in \u001b[0;36m<module>\u001b[1;34m()\u001b[0m\n\u001b[1;32m----> 1\u001b[1;33m plot_all_results(system.s1, system.i1, system.r1, \n\u001b[0m\u001b[0;32m      2\u001b[0m              \u001b[0msystem\u001b[0m\u001b[1;33m.\u001b[0m\u001b[0ms2\u001b[0m\u001b[1;33m,\u001b[0m \u001b[0msystem\u001b[0m\u001b[1;33m.\u001b[0m\u001b[0mi2\u001b[0m\u001b[1;33m,\u001b[0m \u001b[0msystem\u001b[0m\u001b[1;33m.\u001b[0m\u001b[0mr2\u001b[0m\u001b[1;33m,\u001b[0m\u001b[1;33m\u001b[0m\u001b[0m\n\u001b[0;32m      3\u001b[0m              \u001b[0msystem\u001b[0m\u001b[1;33m.\u001b[0m\u001b[0ms3\u001b[0m\u001b[1;33m,\u001b[0m \u001b[0msystem\u001b[0m\u001b[1;33m.\u001b[0m\u001b[0mi3\u001b[0m\u001b[1;33m,\u001b[0m \u001b[0msystem\u001b[0m\u001b[1;33m.\u001b[0m\u001b[0mr3\u001b[0m\u001b[1;33m,\u001b[0m\u001b[1;33m\u001b[0m\u001b[0m\n\u001b[0;32m      4\u001b[0m              system.s4, system.i4, system.r4)\n",
      "\u001b[1;32mC:\\ProgramData\\Miniconda3\\lib\\site-packages\\pandas\\core\\generic.py\u001b[0m in \u001b[0;36m__getattr__\u001b[1;34m(self, name)\u001b[0m\n\u001b[0;32m   3079\u001b[0m             \u001b[1;32mif\u001b[0m \u001b[0mname\u001b[0m \u001b[1;32min\u001b[0m \u001b[0mself\u001b[0m\u001b[1;33m.\u001b[0m\u001b[0m_info_axis\u001b[0m\u001b[1;33m:\u001b[0m\u001b[1;33m\u001b[0m\u001b[0m\n\u001b[0;32m   3080\u001b[0m                 \u001b[1;32mreturn\u001b[0m \u001b[0mself\u001b[0m\u001b[1;33m[\u001b[0m\u001b[0mname\u001b[0m\u001b[1;33m]\u001b[0m\u001b[1;33m\u001b[0m\u001b[0m\n\u001b[1;32m-> 3081\u001b[1;33m             \u001b[1;32mreturn\u001b[0m \u001b[0mobject\u001b[0m\u001b[1;33m.\u001b[0m\u001b[0m__getattribute__\u001b[0m\u001b[1;33m(\u001b[0m\u001b[0mself\u001b[0m\u001b[1;33m,\u001b[0m \u001b[0mname\u001b[0m\u001b[1;33m)\u001b[0m\u001b[1;33m\u001b[0m\u001b[0m\n\u001b[0m\u001b[0;32m   3082\u001b[0m \u001b[1;33m\u001b[0m\u001b[0m\n\u001b[0;32m   3083\u001b[0m     \u001b[1;32mdef\u001b[0m \u001b[0m__setattr__\u001b[0m\u001b[1;33m(\u001b[0m\u001b[0mself\u001b[0m\u001b[1;33m,\u001b[0m \u001b[0mname\u001b[0m\u001b[1;33m,\u001b[0m \u001b[0mvalue\u001b[0m\u001b[1;33m)\u001b[0m\u001b[1;33m:\u001b[0m\u001b[1;33m\u001b[0m\u001b[0m\n",
      "\u001b[1;31mAttributeError\u001b[0m: 'System' object has no attribute 's1'"
     ]
    }
   ],
   "source": [
    "plot_all_results(system.s1, system.i1, system.r1, \n",
    "             system.s2, system.i2, system.r2, \n",
    "             system.s3, system.i3, system.r3, \n",
    "             system.s4, system.i4, system.r4)"
   ]
  },
  {
   "cell_type": "code",
   "execution_count": 78,
   "metadata": {},
   "outputs": [
    {
     "ename": "AttributeError",
     "evalue": "'System' object has no attribute 's1'",
     "output_type": "error",
     "traceback": [
      "\u001b[1;31m---------------------------------------------------------------------------\u001b[0m",
      "\u001b[1;31mAttributeError\u001b[0m                            Traceback (most recent call last)",
      "\u001b[1;32m<ipython-input-78-26fd94172ca8>\u001b[0m in \u001b[0;36m<module>\u001b[1;34m()\u001b[0m\n\u001b[0;32m      5\u001b[0m     \u001b[0mdecorate\u001b[0m\u001b[1;33m(\u001b[0m\u001b[0mxlabel\u001b[0m\u001b[1;33m=\u001b[0m \u001b[1;34m'Time (Days)'\u001b[0m\u001b[1;33m,\u001b[0m \u001b[0mylabel\u001b[0m\u001b[1;33m=\u001b[0m\u001b[1;34m'Fraction of Population'\u001b[0m\u001b[1;33m)\u001b[0m\u001b[1;33m\u001b[0m\u001b[0m\n\u001b[0;32m      6\u001b[0m \u001b[1;33m\u001b[0m\u001b[0m\n\u001b[1;32m----> 7\u001b[1;33m \u001b[0mplot_freshmen\u001b[0m\u001b[1;33m(\u001b[0m\u001b[0msystem\u001b[0m\u001b[1;33m.\u001b[0m\u001b[0ms1\u001b[0m\u001b[1;33m,\u001b[0m \u001b[0msystem\u001b[0m\u001b[1;33m.\u001b[0m\u001b[0mi1\u001b[0m\u001b[1;33m,\u001b[0m \u001b[0msystem\u001b[0m\u001b[1;33m.\u001b[0m\u001b[0mr1\u001b[0m\u001b[1;33m)\u001b[0m\u001b[1;33m\u001b[0m\u001b[0m\n\u001b[0m",
      "\u001b[1;32mC:\\ProgramData\\Miniconda3\\lib\\site-packages\\pandas\\core\\generic.py\u001b[0m in \u001b[0;36m__getattr__\u001b[1;34m(self, name)\u001b[0m\n\u001b[0;32m   3079\u001b[0m             \u001b[1;32mif\u001b[0m \u001b[0mname\u001b[0m \u001b[1;32min\u001b[0m \u001b[0mself\u001b[0m\u001b[1;33m.\u001b[0m\u001b[0m_info_axis\u001b[0m\u001b[1;33m:\u001b[0m\u001b[1;33m\u001b[0m\u001b[0m\n\u001b[0;32m   3080\u001b[0m                 \u001b[1;32mreturn\u001b[0m \u001b[0mself\u001b[0m\u001b[1;33m[\u001b[0m\u001b[0mname\u001b[0m\u001b[1;33m]\u001b[0m\u001b[1;33m\u001b[0m\u001b[0m\n\u001b[1;32m-> 3081\u001b[1;33m             \u001b[1;32mreturn\u001b[0m \u001b[0mobject\u001b[0m\u001b[1;33m.\u001b[0m\u001b[0m__getattribute__\u001b[0m\u001b[1;33m(\u001b[0m\u001b[0mself\u001b[0m\u001b[1;33m,\u001b[0m \u001b[0mname\u001b[0m\u001b[1;33m)\u001b[0m\u001b[1;33m\u001b[0m\u001b[0m\n\u001b[0m\u001b[0;32m   3082\u001b[0m \u001b[1;33m\u001b[0m\u001b[0m\n\u001b[0;32m   3083\u001b[0m     \u001b[1;32mdef\u001b[0m \u001b[0m__setattr__\u001b[0m\u001b[1;33m(\u001b[0m\u001b[0mself\u001b[0m\u001b[1;33m,\u001b[0m \u001b[0mname\u001b[0m\u001b[1;33m,\u001b[0m \u001b[0mvalue\u001b[0m\u001b[1;33m)\u001b[0m\u001b[1;33m:\u001b[0m\u001b[1;33m\u001b[0m\u001b[0m\n",
      "\u001b[1;31mAttributeError\u001b[0m: 'System' object has no attribute 's1'"
     ]
    }
   ],
   "source": [
    "def plot_freshmen(S1, I1, R1):\n",
    "    plot(S1, '--', color='blue', label='Susceptible Freshmen')\n",
    "    plot(I1, '-', color='blue', label='Infected Freshmen')\n",
    "    plot(R1, ':', color='blue', label='Recovered Freshmen')\n",
    "    decorate(xlabel= 'Time (Days)', ylabel='Fraction of Population')\n",
    "    \n",
    "plot_freshmen(system.s1, system.i1, system.r1)"
   ]
  },
  {
   "cell_type": "code",
   "execution_count": 79,
   "metadata": {},
   "outputs": [
    {
     "data": {
      "text/plain": [
       "<function modsim.plot>"
      ]
     },
     "execution_count": 79,
     "metadata": {},
     "output_type": "execute_result"
    }
   ],
   "source": [
    "plot"
   ]
  },
  {
   "cell_type": "code",
   "execution_count": null,
   "metadata": {
    "collapsed": true
   },
   "outputs": [],
   "source": []
  },
  {
   "cell_type": "code",
   "execution_count": null,
   "metadata": {
    "collapsed": true
   },
   "outputs": [],
   "source": []
  }
 ],
 "metadata": {
  "kernelspec": {
   "display_name": "Python 3",
   "language": "python",
   "name": "python3"
  },
  "language_info": {
   "codemirror_mode": {
    "name": "ipython",
    "version": 3
   },
   "file_extension": ".py",
   "mimetype": "text/x-python",
   "name": "python",
   "nbconvert_exporter": "python",
   "pygments_lexer": "ipython3",
   "version": "3.6.1"
  }
 },
 "nbformat": 4,
 "nbformat_minor": 2
}
